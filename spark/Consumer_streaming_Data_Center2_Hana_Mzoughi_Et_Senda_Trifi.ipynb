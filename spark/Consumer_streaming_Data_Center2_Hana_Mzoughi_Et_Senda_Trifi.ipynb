{
 "cells": [
  {
   "cell_type": "code",
   "execution_count": 1,
   "id": "c8db04ca",
   "metadata": {},
   "outputs": [],
   "source": [
    "import findspark\n",
    "findspark.init()"
   ]
  },
  {
   "cell_type": "code",
   "execution_count": 2,
   "id": "f745c326",
   "metadata": {},
   "outputs": [],
   "source": [
    "from pyspark.sql import SparkSession\n",
    "from pyspark.sql.functions import col, regexp_extract\n",
    "import os\n",
    "import smtplib\n",
    "from email.mime.multipart import MIMEMultipart\n",
    "from email.mime.text import MIMEText"
   ]
  },
  {
   "cell_type": "code",
   "execution_count": 3,
   "id": "38d50187",
   "metadata": {},
   "outputs": [],
   "source": [
    "# Configuration des dépendances pour Spark Streaming avec Kafka et Elasticsearch\n",
    "os.environ['PYSPARK_SUBMIT_ARGS'] = (\n",
    "    '--packages org.apache.spark:spark-streaming-kafka-0-10_2.12:3.4.1,'\n",
    "    'org.apache.spark:spark-sql-kafka-0-10_2.12:3.4.1,'\n",
    "    'org.elasticsearch:elasticsearch-spark-30_2.12:8.6.1 pyspark-shell'\n",
    ")"
   ]
  },
  {
   "cell_type": "code",
   "execution_count": 4,
   "id": "f24dd445",
   "metadata": {},
   "outputs": [],
   "source": [
    "# Créer une session Spark\n",
    "spark = SparkSession.builder \\\n",
    "    .appName(\"Dc2ToElasticsearch\") \\\n",
    "    .master(\"local[*]\") \\\n",
    "    .config(\"spark.sql.streaming.schemaInference\", \"true\") \\\n",
    "    .config(\"spark.es.nodes\", \"localhost\") \\\n",
    "    .config(\"spark.es.port\", \"9200\") \\\n",
    "    .getOrCreate()"
   ]
  },
  {
   "cell_type": "code",
   "execution_count": 5,
   "id": "fe87be6f",
   "metadata": {},
   "outputs": [],
   "source": [
    "#Define Kafka source\n",
    "kafka_brokers = \"localhost:9092\" \n",
    "kafka_topic = \"test_stream3\"  "
   ]
  },
  {
   "cell_type": "code",
   "execution_count": 6,
   "id": "c27b028c",
   "metadata": {},
   "outputs": [],
   "source": [
    "raw_logs_df = spark.readStream \\\n",
    "    .format(\"kafka\") \\\n",
    "    .option(\"kafka.bootstrap.servers\", kafka_brokers) \\\n",
    "    .option(\"subscribe\", kafka_topic) \\\n",
    "    .option(\"startingOffsets\", \"earliest\") \\\n",
    "    .option(\"failOnDataLoss\", \"false\") \\\n",
    "    .load()"
   ]
  },
  {
   "cell_type": "code",
   "execution_count": 7,
   "id": "8b0c1de0",
   "metadata": {},
   "outputs": [],
   "source": [
    "logs_df = raw_logs_df.selectExpr(\"CAST(value AS STRING) AS text\")\n",
    "\n",
    "logs_df = logs_df.withColumn(\"Date\", regexp_extract(col(\"text\"), r\"(\\d{4}-\\d{2}-\\d{2})\", 1)) \\\n",
    "                 .withColumn(\"Time\", regexp_extract(col(\"text\"), r\"(\\d{2}:\\d{2}:\\d{2},\\d{3})\", 1)) \\\n",
    "                 .withColumn(\"Level\", regexp_extract(col(\"text\"), r\"(INFO|DEBUG|ERROR|WARN|FATAL)\", 1)) \\\n",
    "                 .withColumn(\"Component\", regexp_extract(col(\"text\"), r\"([a-zA-Z.]+):\", 1)) \\\n",
    "                 .withColumn(\"Content\", regexp_extract(col(\"text\"), r\": (.+)\", 1)) \\\n",
    "                 .withColumn(\"EventTemplate\", col(\"Content\"))"
   ]
  },
  {
   "cell_type": "code",
   "execution_count": 8,
   "id": "7fc3d16e",
   "metadata": {},
   "outputs": [],
   "source": [
    "#Select and format final columns for logs\n",
    "processed_logs_df = logs_df.select(\n",
    "    col(\"Date\"),\n",
    "    col(\"Time\"),\n",
    "    col(\"Level\"),\n",
    "    col(\"Component\"),\n",
    "    col(\"Content\"),\n",
    "    col(\"EventTemplate\")\n",
    ")"
   ]
  },
  {
   "cell_type": "code",
   "execution_count": 9,
   "id": "f7e82d11",
   "metadata": {},
   "outputs": [],
   "source": [
    "#Filter Logs (INFO/DEBUG/ERROR/WARN/FATAL messages only)\n",
    "filtered_logs_df = processed_logs_df.filter(\n",
    "    (col(\"Level\").isin(\"INFO\", \"DEBUG\", \"ERROR\", \"WARN\", \"FATAL\")) &  # Filter for these log levels\n",
    "    ~col(\"Content\").contains(\"ERROR\") &    # Exclude ERROR messages in Content\n",
    "    ~col(\"text\").startswith(\"java.\")       # Exclude java errors\n",
    ")"
   ]
  },
  {
   "cell_type": "code",
   "execution_count": 10,
   "id": "c7de8278",
   "metadata": {},
   "outputs": [],
   "source": [
    "#Filter Errors (Lines starting with \"java.\" or containing \"ERROR\")\n",
    "filtered_errors_df = logs_df.filter(\n",
    "    col(\"text\").startswith(\"java.\") |  # Lines starting with \"java.\"\n",
    "    col(\"Content\").contains(\"ERROR\")   # Lines containing \"ERROR\"\n",
    ")"
   ]
  },
  {
   "cell_type": "code",
   "execution_count": 11,
   "id": "3ada02bb",
   "metadata": {},
   "outputs": [],
   "source": [
    "#Function to send email alerts for errors\n",
    "def send_email_alert(log_message):\n",
    "    try:\n",
    "        server = smtplib.SMTP('smtp.gmail.com', 587)\n",
    "        server.starttls()\n",
    "        server.login(\"Trifisinda@gmail.com\", \"iupasqjljgvymecu\")\n",
    "\n",
    "        subject = \"Alerte Critique dans les Logs\"\n",
    "        body = f\"Message d'erreur critique détecté : {log_message}\"\n",
    "\n",
    "        msg = MIMEMultipart()\n",
    "        msg['From'] = \"Trifisinda@gmail.com\"\n",
    "        msg['To'] = \"Trifisinda@gmail.com\"\n",
    "        msg['Subject'] = subject\n",
    "        msg.attach(MIMEText(body, 'plain', 'utf-8'))\n",
    "\n",
    "        server.sendmail(msg['From'], msg['To'], msg.as_string())\n",
    "        server.quit()\n",
    "        print(f\"Alerte envoyée par email pour le message : {log_message}\")\n",
    "    except Exception as e:\n",
    "        print(f\"Erreur lors de l'envoi de l'email : {e}\")\n",
    "\n",
    "#Send email alerts for errors (in streaming)\n",
    "filtered_errors_query = filtered_errors_df.writeStream \\\n",
    "    .foreachBatch(lambda batch_df, _: [send_email_alert(row['text']) for row in batch_df.collect()]) \\\n",
    "    .outputMode(\"update\") \\\n",
    "    .start()"
   ]
  },
  {
   "cell_type": "code",
   "execution_count": 12,
   "id": "d4ede92a",
   "metadata": {},
   "outputs": [
    {
     "name": "stdout",
     "output_type": "stream",
     "text": [
      "Alerte envoyée par email pour le message : java.io.EOFException: End of File Exception between local host is: \"mesos-slave-32/127.0.1.1\"; destination host is: \"mesos-master-1\":9000; : java.io.EOFException; For more details see:  http://wiki.apache.org/hadoop/EOFException\n",
      "Alerte envoyée par email pour le message : java.io.EOFException: End of File Exception between local host is: \"mesos-slave-32/127.0.1.1\"; destination host is: \"mesos-master-1\":9000; : java.io.EOFException; For more details see:  http://wiki.apache.org/hadoop/EOFException\n"
     ]
    }
   ],
   "source": [
    "# Define Elasticsearch options\n",
    "es_options = {\n",
    "  \"es.nodes\": \"localhost\",  \n",
    "  \"es.port\": \"9200\",        \n",
    "  \"es.index.auto.create\": \"true\",  \n",
    "  \"es.resource\":\"datacenter2-{Date}\" \n",
    "}"
   ]
  },
  {
   "cell_type": "code",
   "execution_count": 13,
   "id": "93a28369",
   "metadata": {},
   "outputs": [
    {
     "name": "stdout",
     "output_type": "stream",
     "text": [
      "Alerte envoyée par email pour le message : java.io.EOFException: End of File Exception between local host is: \"mesos-slave-32/127.0.1.1\"; destination host is: \"mesos-master-1\":9000; : java.io.EOFException; For more details see:  http://wiki.apache.org/hadoop/EOFException\n"
     ]
    }
   ],
   "source": [
    "es_error_options = {\n",
    "  \"es.nodes\":\"localhost\",\n",
    "  \"es.port\":\"9200\",\n",
    "  \"es.index.auto.create\":\"true\",\n",
    "  \"es.resource\":\"erros_datacenter2\"\n",
    "}"
   ]
  },
  {
   "cell_type": "code",
   "execution_count": 14,
   "id": "2ed6efba",
   "metadata": {},
   "outputs": [
    {
     "name": "stdout",
     "output_type": "stream",
     "text": [
      "Alerte envoyée par email pour le message : java.lang.NullPointerException\n"
     ]
    }
   ],
   "source": [
    "query = filtered_logs_df.writeStream \\\n",
    "    .format(\"org.elasticsearch.spark.sql\") \\\n",
    "    .options(**es_options) \\\n",
    "    .outputMode(\"append\") \\\n",
    "    .option(\"checkpointLocation\", \"C:\\\\checkpoint\") \\\n",
    "    .start()"
   ]
  },
  {
   "cell_type": "code",
   "execution_count": 15,
   "id": "a2a87cc8",
   "metadata": {},
   "outputs": [
    {
     "name": "stdout",
     "output_type": "stream",
     "text": [
      "Alerte envoyée par email pour le message : java.net.SocketTimeoutException: Call From mesos-slave-32/127.0.1.1 to mesos-master-1:9000 failed on socket timeout exception: java.net.SocketTimeoutException: 60000 millis timeout while waiting for channel to be ready for read. ch : java.nio.channels.SocketChannel[connected local=/10.10.34.42:48476 remote=mesos-master-1/10.10.34.11:9000]; For more details see:  http://wiki.apache.org/hadoop/SocketTimeout\n"
     ]
    }
   ],
   "source": [
    "query_error = filtered_errors_df.writeStream \\\n",
    "    .format(\"org.elasticsearch.spark.sql\") \\\n",
    "    .options(**es_error_options) \\\n",
    "    .outputMode(\"append\") \\\n",
    "    .option(\"checkpointLocation\", \"C:\\\\checkpoint\") \\\n",
    "    .start()"
   ]
  },
  {
   "cell_type": "code",
   "execution_count": 16,
   "id": "dbe16f29",
   "metadata": {},
   "outputs": [
    {
     "name": "stdout",
     "output_type": "stream",
     "text": [
      "Alerte envoyée par email pour le message : java.net.SocketTimeoutException: Call From mesos-slave-32/127.0.1.1 to mesos-master-1:9000 failed on socket timeout exception: java.net.SocketTimeoutException: 60000 millis timeout while waiting for channel to be ready for read. ch : java.nio.channels.SocketChannel[connected local=/10.10.34.42:56417 remote=mesos-master-1/10.10.34.11:9000]; For more details see:  http://wiki.apache.org/hadoop/SocketTimeout\n",
      "Alerte envoyée par email pour le message : java.net.SocketTimeoutException: Call From mesos-slave-32/127.0.1.1 to mesos-master-1:9000 failed on socket timeout exception: java.net.SocketTimeoutException: 60000 millis timeout while waiting for channel to be ready for read. ch : java.nio.channels.SocketChannel[connected local=/10.10.34.42:56418 remote=mesos-master-1/10.10.34.11:9000]; For more details see:  http://wiki.apache.org/hadoop/SocketTimeout\n",
      "Alerte envoyée par email pour le message : java.net.SocketTimeoutException: Call From mesos-slave-32/127.0.1.1 to mesos-master-1:9000 failed on socket timeout exception: java.net.SocketTimeoutException: 60000 millis timeout while waiting for channel to be ready for read. ch : java.nio.channels.SocketChannel[connected local=/10.10.34.42:56419 remote=mesos-master-1/10.10.34.11:9000]; For more details see:  http://wiki.apache.org/hadoop/SocketTimeout\n",
      "Alerte envoyée par email pour le message : java.net.SocketTimeoutException: Call From mesos-slave-32/127.0.1.1 to mesos-master-1:9000 failed on socket timeout exception: java.net.SocketTimeoutException: 60000 millis timeout while waiting for channel to be ready for read. ch : java.nio.channels.SocketChannel[connected local=/10.10.34.42:56421 remote=mesos-master-1/10.10.34.11:9000]; For more details see:  http://wiki.apache.org/hadoop/SocketTimeout\n",
      "Alerte envoyée par email pour le message : java.net.SocketTimeoutException: Call From mesos-slave-32/127.0.1.1 to mesos-master-1:9000 failed on socket timeout exception: java.net.SocketTimeoutException: 60000 millis timeout while waiting for channel to be ready for read. ch : java.nio.channels.SocketChannel[connected local=/10.10.34.42:56422 remote=mesos-master-1/10.10.34.11:9000]; For more details see:  http://wiki.apache.org/hadoop/SocketTimeout\n",
      "Alerte envoyée par email pour le message : java.net.SocketTimeoutException: Call From mesos-slave-32/127.0.1.1 to mesos-master-1:9000 failed on socket timeout exception: java.net.SocketTimeoutException: 60000 millis timeout while waiting for channel to be ready for read. ch : java.nio.channels.SocketChannel[connected local=/10.10.34.42:56423 remote=mesos-master-1/10.10.34.11:9000]; For more details see:  http://wiki.apache.org/hadoop/SocketTimeout\n",
      "Alerte envoyée par email pour le message : java.net.SocketTimeoutException: Call From mesos-slave-32/127.0.1.1 to mesos-master-1:9000 failed on socket timeout exception: java.net.SocketTimeoutException: 60000 millis timeout while waiting for channel to be ready for read. ch : java.nio.channels.SocketChannel[connected local=/10.10.34.42:56424 remote=mesos-master-1/10.10.34.11:9000]; For more details see:  http://wiki.apache.org/hadoop/SocketTimeout\n",
      "Alerte envoyée par email pour le message : java.net.SocketTimeoutException: Call From mesos-slave-32/127.0.1.1 to mesos-master-1:9000 failed on socket timeout exception: java.net.SocketTimeoutException: 60000 millis timeout while waiting for channel to be ready for read. ch : java.nio.channels.SocketChannel[connected local=/10.10.34.42:56425 remote=mesos-master-1/10.10.34.11:9000]; For more details see:  http://wiki.apache.org/hadoop/SocketTimeout\n",
      "Alerte envoyée par email pour le message : java.net.SocketTimeoutException: Call From mesos-slave-32/127.0.1.1 to mesos-master-1:9000 failed on socket timeout exception: java.net.SocketTimeoutException: 60000 millis timeout while waiting for channel to be ready for read. ch : java.nio.channels.SocketChannel[connected local=/10.10.34.42:56426 remote=mesos-master-1/10.10.34.11:9000]; For more details see:  http://wiki.apache.org/hadoop/SocketTimeout\n",
      "Alerte envoyée par email pour le message : java.net.SocketTimeoutException: Call From mesos-slave-32/127.0.1.1 to mesos-master-1:9000 failed on socket timeout exception: java.net.SocketTimeoutException: 60000 millis timeout while waiting for channel to be ready for read. ch : java.nio.channels.SocketChannel[connected local=/10.10.34.42:56427 remote=mesos-master-1/10.10.34.11:9000]; For more details see:  http://wiki.apache.org/hadoop/SocketTimeout\n",
      "Alerte envoyée par email pour le message : java.net.SocketTimeoutException: Call From mesos-slave-32/127.0.1.1 to mesos-master-1:9000 failed on socket timeout exception: java.net.SocketTimeoutException: 60000 millis timeout while waiting for channel to be ready for read. ch : java.nio.channels.SocketChannel[connected local=/10.10.34.42:56428 remote=mesos-master-1/10.10.34.11:9000]; For more details see:  http://wiki.apache.org/hadoop/SocketTimeout\n",
      "Alerte envoyée par email pour le message : java.net.SocketTimeoutException: Call From mesos-slave-32/127.0.1.1 to mesos-master-1:9000 failed on socket timeout exception: java.net.SocketTimeoutException: 60000 millis timeout while waiting for channel to be ready for read. ch : java.nio.channels.SocketChannel[connected local=/10.10.34.42:56429 remote=mesos-master-1/10.10.34.11:9000]; For more details see:  http://wiki.apache.org/hadoop/SocketTimeout\n",
      "Alerte envoyée par email pour le message : java.net.SocketTimeoutException: Call From mesos-slave-32/127.0.1.1 to mesos-master-1:9000 failed on socket timeout exception: java.net.SocketTimeoutException: 60000 millis timeout while waiting for channel to be ready for read. ch : java.nio.channels.SocketChannel[connected local=/10.10.34.42:56430 remote=mesos-master-1/10.10.34.11:9000]; For more details see:  http://wiki.apache.org/hadoop/SocketTimeout\n",
      "Alerte envoyée par email pour le message : java.net.SocketTimeoutException: Call From mesos-slave-32/127.0.1.1 to mesos-master-1:9000 failed on socket timeout exception: java.net.SocketTimeoutException: 60000 millis timeout while waiting for channel to be ready for read. ch : java.nio.channels.SocketChannel[connected local=/10.10.34.42:56431 remote=mesos-master-1/10.10.34.11:9000]; For more details see:  http://wiki.apache.org/hadoop/SocketTimeout\n",
      "Alerte envoyée par email pour le message : java.net.SocketTimeoutException: Call From mesos-slave-32/127.0.1.1 to mesos-master-1:9000 failed on socket timeout exception: java.net.SocketTimeoutException: 60000 millis timeout while waiting for channel to be ready for read. ch : java.nio.channels.SocketChannel[connected local=/10.10.34.42:56432 remote=mesos-master-1/10.10.34.11:9000]; For more details see:  http://wiki.apache.org/hadoop/SocketTimeout\n",
      "Alerte envoyée par email pour le message : java.net.SocketTimeoutException: Call From mesos-slave-32/127.0.1.1 to mesos-master-1:9000 failed on socket timeout exception: java.net.SocketTimeoutException: 60000 millis timeout while waiting for channel to be ready for read. ch : java.nio.channels.SocketChannel[connected local=/10.10.34.42:56433 remote=mesos-master-1/10.10.34.11:9000]; For more details see:  http://wiki.apache.org/hadoop/SocketTimeout\n",
      "Alerte envoyée par email pour le message : java.net.SocketTimeoutException: Call From mesos-slave-32/127.0.1.1 to mesos-master-1:9000 failed on socket timeout exception: java.net.SocketTimeoutException: 60000 millis timeout while waiting for channel to be ready for read. ch : java.nio.channels.SocketChannel[connected local=/10.10.34.42:56434 remote=mesos-master-1/10.10.34.11:9000]; For more details see:  http://wiki.apache.org/hadoop/SocketTimeout\n",
      "Alerte envoyée par email pour le message : java.net.SocketTimeoutException: Call From mesos-slave-32/127.0.1.1 to mesos-master-1:9000 failed on socket timeout exception: java.net.SocketTimeoutException: 60000 millis timeout while waiting for channel to be ready for read. ch : java.nio.channels.SocketChannel[connected local=/10.10.34.42:56435 remote=mesos-master-1/10.10.34.11:9000]; For more details see:  http://wiki.apache.org/hadoop/SocketTimeout\n",
      "Alerte envoyée par email pour le message : java.net.SocketTimeoutException: Call From mesos-slave-32/127.0.1.1 to mesos-master-1:9000 failed on socket timeout exception: java.net.SocketTimeoutException: 60000 millis timeout while waiting for channel to be ready for read. ch : java.nio.channels.SocketChannel[connected local=/10.10.34.42:56436 remote=mesos-master-1/10.10.34.11:9000]; For more details see:  http://wiki.apache.org/hadoop/SocketTimeout\n",
      "Alerte envoyée par email pour le message : java.net.SocketTimeoutException: Call From mesos-slave-32/127.0.1.1 to mesos-master-1:9000 failed on socket timeout exception: java.net.SocketTimeoutException: 60000 millis timeout while waiting for channel to be ready for read. ch : java.nio.channels.SocketChannel[connected local=/10.10.34.42:56437 remote=mesos-master-1/10.10.34.11:9000]; For more details see:  http://wiki.apache.org/hadoop/SocketTimeout\n",
      "Alerte envoyée par email pour le message : java.net.SocketTimeoutException: Call From mesos-slave-32/127.0.1.1 to mesos-master-1:9000 failed on socket timeout exception: java.net.SocketTimeoutException: 60000 millis timeout while waiting for channel to be ready for read. ch : java.nio.channels.SocketChannel[connected local=/10.10.34.42:56438 remote=mesos-master-1/10.10.34.11:9000]; For more details see:  http://wiki.apache.org/hadoop/SocketTimeout\n",
      "Alerte envoyée par email pour le message : java.net.SocketTimeoutException: Call From mesos-slave-32/127.0.1.1 to mesos-master-1:9000 failed on socket timeout exception: java.net.SocketTimeoutException: 60000 millis timeout while waiting for channel to be ready for read. ch : java.nio.channels.SocketChannel[connected local=/10.10.34.42:56439 remote=mesos-master-1/10.10.34.11:9000]; For more details see:  http://wiki.apache.org/hadoop/SocketTimeout\n",
      "Alerte envoyée par email pour le message : java.net.SocketTimeoutException: Call From mesos-slave-32/127.0.1.1 to mesos-master-1:9000 failed on socket timeout exception: java.net.SocketTimeoutException: 60000 millis timeout while waiting for channel to be ready for read. ch : java.nio.channels.SocketChannel[connected local=/10.10.34.42:56440 remote=mesos-master-1/10.10.34.11:9000]; For more details see:  http://wiki.apache.org/hadoop/SocketTimeout\n",
      "Alerte envoyée par email pour le message : java.net.SocketTimeoutException: Call From mesos-slave-32/127.0.1.1 to mesos-master-1:9000 failed on socket timeout exception: java.net.SocketTimeoutException: 60000 millis timeout while waiting for channel to be ready for read. ch : java.nio.channels.SocketChannel[connected local=/10.10.34.42:56441 remote=mesos-master-1/10.10.34.11:9000]; For more details see:  http://wiki.apache.org/hadoop/SocketTimeout\n",
      "Alerte envoyée par email pour le message : java.net.SocketTimeoutException: Call From mesos-slave-32/127.0.1.1 to mesos-master-1:9000 failed on socket timeout exception: java.net.SocketTimeoutException: 60000 millis timeout while waiting for channel to be ready for read. ch : java.nio.channels.SocketChannel[connected local=/10.10.34.42:56442 remote=mesos-master-1/10.10.34.11:9000]; For more details see:  http://wiki.apache.org/hadoop/SocketTimeout\n",
      "Alerte envoyée par email pour le message : java.net.SocketTimeoutException: Call From mesos-slave-32/127.0.1.1 to mesos-master-1:9000 failed on socket timeout exception: java.net.SocketTimeoutException: 60000 millis timeout while waiting for channel to be ready for read. ch : java.nio.channels.SocketChannel[connected local=/10.10.34.42:56443 remote=mesos-master-1/10.10.34.11:9000]; For more details see:  http://wiki.apache.org/hadoop/SocketTimeout\n",
      "Alerte envoyée par email pour le message : java.net.SocketTimeoutException: Call From mesos-slave-32/127.0.1.1 to mesos-master-1:9000 failed on socket timeout exception: java.net.SocketTimeoutException: 60000 millis timeout while waiting for channel to be ready for read. ch : java.nio.channels.SocketChannel[connected local=/10.10.34.42:56444 remote=mesos-master-1/10.10.34.11:9000]; For more details see:  http://wiki.apache.org/hadoop/SocketTimeout\n",
      "Alerte envoyée par email pour le message : java.net.SocketTimeoutException: Call From mesos-slave-32/127.0.1.1 to mesos-master-1:9000 failed on socket timeout exception: java.net.SocketTimeoutException: 60000 millis timeout while waiting for channel to be ready for read. ch : java.nio.channels.SocketChannel[connected local=/10.10.34.42:56445 remote=mesos-master-1/10.10.34.11:9000]; For more details see:  http://wiki.apache.org/hadoop/SocketTimeout\n",
      "Alerte envoyée par email pour le message : java.net.SocketTimeoutException: Call From mesos-slave-32/127.0.1.1 to mesos-master-1:9000 failed on socket timeout exception: java.net.SocketTimeoutException: 60000 millis timeout while waiting for channel to be ready for read. ch : java.nio.channels.SocketChannel[connected local=/10.10.34.42:56446 remote=mesos-master-1/10.10.34.11:9000]; For more details see:  http://wiki.apache.org/hadoop/SocketTimeout\n",
      "Alerte envoyée par email pour le message : java.net.SocketTimeoutException: Call From mesos-slave-32/127.0.1.1 to mesos-master-1:9000 failed on socket timeout exception: java.net.SocketTimeoutException: 60000 millis timeout while waiting for channel to be ready for read. ch : java.nio.channels.SocketChannel[connected local=/10.10.34.42:56447 remote=mesos-master-1/10.10.34.11:9000]; For more details see:  http://wiki.apache.org/hadoop/SocketTimeout\n",
      "Alerte envoyée par email pour le message : java.net.SocketTimeoutException: Call From mesos-slave-32/127.0.1.1 to mesos-master-1:9000 failed on socket timeout exception: java.net.SocketTimeoutException: 60000 millis timeout while waiting for channel to be ready for read. ch : java.nio.channels.SocketChannel[connected local=/10.10.34.42:56448 remote=mesos-master-1/10.10.34.11:9000]; For more details see:  http://wiki.apache.org/hadoop/SocketTimeout\n",
      "Alerte envoyée par email pour le message : java.net.SocketTimeoutException: Call From mesos-slave-32/127.0.1.1 to mesos-master-1:9000 failed on socket timeout exception: java.net.SocketTimeoutException: 60000 millis timeout while waiting for channel to be ready for read. ch : java.nio.channels.SocketChannel[connected local=/10.10.34.42:56449 remote=mesos-master-1/10.10.34.11:9000]; For more details see:  http://wiki.apache.org/hadoop/SocketTimeout\n",
      "Alerte envoyée par email pour le message : java.net.SocketTimeoutException: Call From mesos-slave-32/127.0.1.1 to mesos-master-1:9000 failed on socket timeout exception: java.net.SocketTimeoutException: 60000 millis timeout while waiting for channel to be ready for read. ch : java.nio.channels.SocketChannel[connected local=/10.10.34.42:56450 remote=mesos-master-1/10.10.34.11:9000]; For more details see:  http://wiki.apache.org/hadoop/SocketTimeout\n",
      "Alerte envoyée par email pour le message : java.net.SocketTimeoutException: Call From mesos-slave-32/127.0.1.1 to mesos-master-1:9000 failed on socket timeout exception: java.net.SocketTimeoutException: 60000 millis timeout while waiting for channel to be ready for read. ch : java.nio.channels.SocketChannel[connected local=/10.10.34.42:56451 remote=mesos-master-1/10.10.34.11:9000]; For more details see:  http://wiki.apache.org/hadoop/SocketTimeout\n",
      "Alerte envoyée par email pour le message : java.net.SocketTimeoutException: Call From mesos-slave-32/127.0.1.1 to mesos-master-1:9000 failed on socket timeout exception: java.net.SocketTimeoutException: 60000 millis timeout while waiting for channel to be ready for read. ch : java.nio.channels.SocketChannel[connected local=/10.10.34.42:56452 remote=mesos-master-1/10.10.34.11:9000]; For more details see:  http://wiki.apache.org/hadoop/SocketTimeout\n",
      "Alerte envoyée par email pour le message : java.net.SocketTimeoutException: Call From mesos-slave-32/127.0.1.1 to mesos-master-1:9000 failed on socket timeout exception: java.net.SocketTimeoutException: 60000 millis timeout while waiting for channel to be ready for read. ch : java.nio.channels.SocketChannel[connected local=/10.10.34.42:56453 remote=mesos-master-1/10.10.34.11:9000]; For more details see:  http://wiki.apache.org/hadoop/SocketTimeout\n",
      "Alerte envoyée par email pour le message : java.net.SocketTimeoutException: Call From mesos-slave-32/127.0.1.1 to mesos-master-1:9000 failed on socket timeout exception: java.net.SocketTimeoutException: 60000 millis timeout while waiting for channel to be ready for read. ch : java.nio.channels.SocketChannel[connected local=/10.10.34.42:56454 remote=mesos-master-1/10.10.34.11:9000]; For more details see:  http://wiki.apache.org/hadoop/SocketTimeout\n",
      "Alerte envoyée par email pour le message : java.net.SocketTimeoutException: Call From mesos-slave-32/127.0.1.1 to mesos-master-1:9000 failed on socket timeout exception: java.net.SocketTimeoutException: 60000 millis timeout while waiting for channel to be ready for read. ch : java.nio.channels.SocketChannel[connected local=/10.10.34.42:56455 remote=mesos-master-1/10.10.34.11:9000]; For more details see:  http://wiki.apache.org/hadoop/SocketTimeout\n",
      "Alerte envoyée par email pour le message : java.net.SocketTimeoutException: Call From mesos-slave-32/127.0.1.1 to mesos-master-1:9000 failed on socket timeout exception: java.net.SocketTimeoutException: 60000 millis timeout while waiting for channel to be ready for read. ch : java.nio.channels.SocketChannel[connected local=/10.10.34.42:56456 remote=mesos-master-1/10.10.34.11:9000]; For more details see:  http://wiki.apache.org/hadoop/SocketTimeout\n",
      "Alerte envoyée par email pour le message : java.net.SocketTimeoutException: Call From mesos-slave-32/127.0.1.1 to mesos-master-1:9000 failed on socket timeout exception: java.net.SocketTimeoutException: 60000 millis timeout while waiting for channel to be ready for read. ch : java.nio.channels.SocketChannel[connected local=/10.10.34.42:56457 remote=mesos-master-1/10.10.34.11:9000]; For more details see:  http://wiki.apache.org/hadoop/SocketTimeout\n",
      "Alerte envoyée par email pour le message : java.net.SocketTimeoutException: Call From mesos-slave-32/127.0.1.1 to mesos-master-1:9000 failed on socket timeout exception: java.net.SocketTimeoutException: 60000 millis timeout while waiting for channel to be ready for read. ch : java.nio.channels.SocketChannel[connected local=/10.10.34.42:56458 remote=mesos-master-1/10.10.34.11:9000]; For more details see:  http://wiki.apache.org/hadoop/SocketTimeout\n",
      "Alerte envoyée par email pour le message : java.net.SocketTimeoutException: Call From mesos-slave-32/127.0.1.1 to mesos-master-1:9000 failed on socket timeout exception: java.net.SocketTimeoutException: 60000 millis timeout while waiting for channel to be ready for read. ch : java.nio.channels.SocketChannel[connected local=/10.10.34.42:56459 remote=mesos-master-1/10.10.34.11:9000]; For more details see:  http://wiki.apache.org/hadoop/SocketTimeout\n",
      "Alerte envoyée par email pour le message : java.net.SocketTimeoutException: Call From mesos-slave-32/127.0.1.1 to mesos-master-1:9000 failed on socket timeout exception: java.net.SocketTimeoutException: 60000 millis timeout while waiting for channel to be ready for read. ch : java.nio.channels.SocketChannel[connected local=/10.10.34.42:56460 remote=mesos-master-1/10.10.34.11:9000]; For more details see:  http://wiki.apache.org/hadoop/SocketTimeout\n",
      "Alerte envoyée par email pour le message : java.net.SocketTimeoutException: Call From mesos-slave-32/127.0.1.1 to mesos-master-1:9000 failed on socket timeout exception: java.net.SocketTimeoutException: 60000 millis timeout while waiting for channel to be ready for read. ch : java.nio.channels.SocketChannel[connected local=/10.10.34.42:56461 remote=mesos-master-1/10.10.34.11:9000]; For more details see:  http://wiki.apache.org/hadoop/SocketTimeout\n",
      "Alerte envoyée par email pour le message : java.net.SocketTimeoutException: Call From mesos-slave-32/127.0.1.1 to mesos-master-1:9000 failed on socket timeout exception: java.net.SocketTimeoutException: 60000 millis timeout while waiting for channel to be ready for read. ch : java.nio.channels.SocketChannel[connected local=/10.10.34.42:56462 remote=mesos-master-1/10.10.34.11:9000]; For more details see:  http://wiki.apache.org/hadoop/SocketTimeout\n",
      "Alerte envoyée par email pour le message : java.net.SocketTimeoutException: Call From mesos-slave-32/127.0.1.1 to mesos-master-1:9000 failed on socket timeout exception: java.net.SocketTimeoutException: 60000 millis timeout while waiting for channel to be ready for read. ch : java.nio.channels.SocketChannel[connected local=/10.10.34.42:56463 remote=mesos-master-1/10.10.34.11:9000]; For more details see:  http://wiki.apache.org/hadoop/SocketTimeout\n",
      "Alerte envoyée par email pour le message : java.net.SocketTimeoutException: Call From mesos-slave-32/127.0.1.1 to mesos-master-1:9000 failed on socket timeout exception: java.net.SocketTimeoutException: 60000 millis timeout while waiting for channel to be ready for read. ch : java.nio.channels.SocketChannel[connected local=/10.10.34.42:56464 remote=mesos-master-1/10.10.34.11:9000]; For more details see:  http://wiki.apache.org/hadoop/SocketTimeout\n",
      "Alerte envoyée par email pour le message : java.net.SocketTimeoutException: Call From mesos-slave-32/127.0.1.1 to mesos-master-1:9000 failed on socket timeout exception: java.net.SocketTimeoutException: 60000 millis timeout while waiting for channel to be ready for read. ch : java.nio.channels.SocketChannel[connected local=/10.10.34.42:56465 remote=mesos-master-1/10.10.34.11:9000]; For more details see:  http://wiki.apache.org/hadoop/SocketTimeout\n",
      "Alerte envoyée par email pour le message : java.net.SocketTimeoutException: Call From mesos-slave-32/127.0.1.1 to mesos-master-1:9000 failed on socket timeout exception: java.net.SocketTimeoutException: 60000 millis timeout while waiting for channel to be ready for read. ch : java.nio.channels.SocketChannel[connected local=/10.10.34.42:56466 remote=mesos-master-1/10.10.34.11:9000]; For more details see:  http://wiki.apache.org/hadoop/SocketTimeout\n",
      "Alerte envoyée par email pour le message : java.net.SocketTimeoutException: Call From mesos-slave-32/127.0.1.1 to mesos-master-1:9000 failed on socket timeout exception: java.net.SocketTimeoutException: 60000 millis timeout while waiting for channel to be ready for read. ch : java.nio.channels.SocketChannel[connected local=/10.10.34.42:56467 remote=mesos-master-1/10.10.34.11:9000]; For more details see:  http://wiki.apache.org/hadoop/SocketTimeout\n",
      "Alerte envoyée par email pour le message : java.net.SocketTimeoutException: Call From mesos-slave-32/127.0.1.1 to mesos-master-1:9000 failed on socket timeout exception: java.net.SocketTimeoutException: 60000 millis timeout while waiting for channel to be ready for read. ch : java.nio.channels.SocketChannel[connected local=/10.10.34.42:56468 remote=mesos-master-1/10.10.34.11:9000]; For more details see:  http://wiki.apache.org/hadoop/SocketTimeout\n",
      "Alerte envoyée par email pour le message : java.net.SocketTimeoutException: Call From mesos-slave-32/127.0.1.1 to mesos-master-1:9000 failed on socket timeout exception: java.net.SocketTimeoutException: 60000 millis timeout while waiting for channel to be ready for read. ch : java.nio.channels.SocketChannel[connected local=/10.10.34.42:56469 remote=mesos-master-1/10.10.34.11:9000]; For more details see:  http://wiki.apache.org/hadoop/SocketTimeout\n",
      "Alerte envoyée par email pour le message : java.net.SocketTimeoutException: Call From mesos-slave-32/127.0.1.1 to mesos-master-1:9000 failed on socket timeout exception: java.net.SocketTimeoutException: 60000 millis timeout while waiting for channel to be ready for read. ch : java.nio.channels.SocketChannel[connected local=/10.10.34.42:56470 remote=mesos-master-1/10.10.34.11:9000]; For more details see:  http://wiki.apache.org/hadoop/SocketTimeout\n",
      "Alerte envoyée par email pour le message : java.net.SocketTimeoutException: Call From mesos-slave-32/127.0.1.1 to mesos-master-1:9000 failed on socket timeout exception: java.net.SocketTimeoutException: 60000 millis timeout while waiting for channel to be ready for read. ch : java.nio.channels.SocketChannel[connected local=/10.10.34.42:56471 remote=mesos-master-1/10.10.34.11:9000]; For more details see:  http://wiki.apache.org/hadoop/SocketTimeout\n",
      "Alerte envoyée par email pour le message : java.net.SocketTimeoutException: Call From mesos-slave-32/127.0.1.1 to mesos-master-1:9000 failed on socket timeout exception: java.net.SocketTimeoutException: 60000 millis timeout while waiting for channel to be ready for read. ch : java.nio.channels.SocketChannel[connected local=/10.10.34.42:56472 remote=mesos-master-1/10.10.34.11:9000]; For more details see:  http://wiki.apache.org/hadoop/SocketTimeout\n",
      "Alerte envoyée par email pour le message : java.net.SocketTimeoutException: Call From mesos-slave-32/127.0.1.1 to mesos-master-1:9000 failed on socket timeout exception: java.net.SocketTimeoutException: 60000 millis timeout while waiting for channel to be ready for read. ch : java.nio.channels.SocketChannel[connected local=/10.10.34.42:56473 remote=mesos-master-1/10.10.34.11:9000]; For more details see:  http://wiki.apache.org/hadoop/SocketTimeout\n",
      "Alerte envoyée par email pour le message : java.net.SocketTimeoutException: Call From mesos-slave-32/127.0.1.1 to mesos-master-1:9000 failed on socket timeout exception: java.net.SocketTimeoutException: 60000 millis timeout while waiting for channel to be ready for read. ch : java.nio.channels.SocketChannel[connected local=/10.10.34.42:56474 remote=mesos-master-1/10.10.34.11:9000]; For more details see:  http://wiki.apache.org/hadoop/SocketTimeout\n",
      "Alerte envoyée par email pour le message : java.net.SocketTimeoutException: Call From mesos-slave-32/127.0.1.1 to mesos-master-1:9000 failed on socket timeout exception: java.net.SocketTimeoutException: 60000 millis timeout while waiting for channel to be ready for read. ch : java.nio.channels.SocketChannel[connected local=/10.10.34.42:56475 remote=mesos-master-1/10.10.34.11:9000]; For more details see:  http://wiki.apache.org/hadoop/SocketTimeout\n",
      "Alerte envoyée par email pour le message : java.net.SocketTimeoutException: Call From mesos-slave-32/127.0.1.1 to mesos-master-1:9000 failed on socket timeout exception: java.net.SocketTimeoutException: 60000 millis timeout while waiting for channel to be ready for read. ch : java.nio.channels.SocketChannel[connected local=/10.10.34.42:56476 remote=mesos-master-1/10.10.34.11:9000]; For more details see:  http://wiki.apache.org/hadoop/SocketTimeout\n",
      "Alerte envoyée par email pour le message : java.net.SocketTimeoutException: Call From mesos-slave-32/127.0.1.1 to mesos-master-1:9000 failed on socket timeout exception: java.net.SocketTimeoutException: 60000 millis timeout while waiting for channel to be ready for read. ch : java.nio.channels.SocketChannel[connected local=/10.10.34.42:56477 remote=mesos-master-1/10.10.34.11:9000]; For more details see:  http://wiki.apache.org/hadoop/SocketTimeout\n",
      "Alerte envoyée par email pour le message : java.net.SocketTimeoutException: Call From mesos-slave-32/127.0.1.1 to mesos-master-1:9000 failed on socket timeout exception: java.net.SocketTimeoutException: 60000 millis timeout while waiting for channel to be ready for read. ch : java.nio.channels.SocketChannel[connected local=/10.10.34.42:56478 remote=mesos-master-1/10.10.34.11:9000]; For more details see:  http://wiki.apache.org/hadoop/SocketTimeout\n",
      "Alerte envoyée par email pour le message : java.net.SocketTimeoutException: Call From mesos-slave-32/127.0.1.1 to mesos-master-1:9000 failed on socket timeout exception: java.net.SocketTimeoutException: 60000 millis timeout while waiting for channel to be ready for read. ch : java.nio.channels.SocketChannel[connected local=/10.10.34.42:56479 remote=mesos-master-1/10.10.34.11:9000]; For more details see:  http://wiki.apache.org/hadoop/SocketTimeout\n",
      "Alerte envoyée par email pour le message : java.net.SocketTimeoutException: Call From mesos-slave-32/127.0.1.1 to mesos-master-1:9000 failed on socket timeout exception: java.net.SocketTimeoutException: 60000 millis timeout while waiting for channel to be ready for read. ch : java.nio.channels.SocketChannel[connected local=/10.10.34.42:56480 remote=mesos-master-1/10.10.34.11:9000]; For more details see:  http://wiki.apache.org/hadoop/SocketTimeout\n",
      "Alerte envoyée par email pour le message : java.net.SocketTimeoutException: Call From mesos-slave-32/127.0.1.1 to mesos-master-1:9000 failed on socket timeout exception: java.net.SocketTimeoutException: 60000 millis timeout while waiting for channel to be ready for read. ch : java.nio.channels.SocketChannel[connected local=/10.10.34.42:56481 remote=mesos-master-1/10.10.34.11:9000]; For more details see:  http://wiki.apache.org/hadoop/SocketTimeout\n",
      "Alerte envoyée par email pour le message : java.net.SocketTimeoutException: Call From mesos-slave-32/127.0.1.1 to mesos-master-1:9000 failed on socket timeout exception: java.net.SocketTimeoutException: 60000 millis timeout while waiting for channel to be ready for read. ch : java.nio.channels.SocketChannel[connected local=/10.10.34.42:56482 remote=mesos-master-1/10.10.34.11:9000]; For more details see:  http://wiki.apache.org/hadoop/SocketTimeout\n",
      "Alerte envoyée par email pour le message : java.net.SocketTimeoutException: Call From mesos-slave-32/127.0.1.1 to mesos-master-1:9000 failed on socket timeout exception: java.net.SocketTimeoutException: 60000 millis timeout while waiting for channel to be ready for read. ch : java.nio.channels.SocketChannel[connected local=/10.10.34.42:56483 remote=mesos-master-1/10.10.34.11:9000]; For more details see:  http://wiki.apache.org/hadoop/SocketTimeout\n",
      "Alerte envoyée par email pour le message : java.net.SocketTimeoutException: Call From mesos-slave-32/127.0.1.1 to mesos-master-1:9000 failed on socket timeout exception: java.net.SocketTimeoutException: 60000 millis timeout while waiting for channel to be ready for read. ch : java.nio.channels.SocketChannel[connected local=/10.10.34.42:56484 remote=mesos-master-1/10.10.34.11:9000]; For more details see:  http://wiki.apache.org/hadoop/SocketTimeout\n",
      "Alerte envoyée par email pour le message : java.net.SocketTimeoutException: Call From mesos-slave-32/127.0.1.1 to mesos-master-1:9000 failed on socket timeout exception: java.net.SocketTimeoutException: 60000 millis timeout while waiting for channel to be ready for read. ch : java.nio.channels.SocketChannel[connected local=/10.10.34.42:56485 remote=mesos-master-1/10.10.34.11:9000]; For more details see:  http://wiki.apache.org/hadoop/SocketTimeout\n",
      "Alerte envoyée par email pour le message : java.net.SocketTimeoutException: Call From mesos-slave-32/127.0.1.1 to mesos-master-1:9000 failed on socket timeout exception: java.net.SocketTimeoutException: 60000 millis timeout while waiting for channel to be ready for read. ch : java.nio.channels.SocketChannel[connected local=/10.10.34.42:56486 remote=mesos-master-1/10.10.34.11:9000]; For more details see:  http://wiki.apache.org/hadoop/SocketTimeout\n",
      "Alerte envoyée par email pour le message : java.net.SocketTimeoutException: Call From mesos-slave-32/127.0.1.1 to mesos-master-1:9000 failed on socket timeout exception: java.net.SocketTimeoutException: 60000 millis timeout while waiting for channel to be ready for read. ch : java.nio.channels.SocketChannel[connected local=/10.10.34.42:56487 remote=mesos-master-1/10.10.34.11:9000]; For more details see:  http://wiki.apache.org/hadoop/SocketTimeout\n",
      "Alerte envoyée par email pour le message : java.net.SocketTimeoutException: Call From mesos-slave-32/127.0.1.1 to mesos-master-1:9000 failed on socket timeout exception: java.net.SocketTimeoutException: 60000 millis timeout while waiting for channel to be ready for read. ch : java.nio.channels.SocketChannel[connected local=/10.10.34.42:56488 remote=mesos-master-1/10.10.34.11:9000]; For more details see:  http://wiki.apache.org/hadoop/SocketTimeout\n",
      "Alerte envoyée par email pour le message : java.net.SocketTimeoutException: Call From mesos-slave-32/127.0.1.1 to mesos-master-1:9000 failed on socket timeout exception: java.net.SocketTimeoutException: 60000 millis timeout while waiting for channel to be ready for read. ch : java.nio.channels.SocketChannel[connected local=/10.10.34.42:56489 remote=mesos-master-1/10.10.34.11:9000]; For more details see:  http://wiki.apache.org/hadoop/SocketTimeout\n",
      "Alerte envoyée par email pour le message : java.net.SocketTimeoutException: Call From mesos-slave-32/127.0.1.1 to mesos-master-1:9000 failed on socket timeout exception: java.net.SocketTimeoutException: 60000 millis timeout while waiting for channel to be ready for read. ch : java.nio.channels.SocketChannel[connected local=/10.10.34.42:56490 remote=mesos-master-1/10.10.34.11:9000]; For more details see:  http://wiki.apache.org/hadoop/SocketTimeout\n",
      "Alerte envoyée par email pour le message : java.net.SocketTimeoutException: Call From mesos-slave-32/127.0.1.1 to mesos-master-1:9000 failed on socket timeout exception: java.net.SocketTimeoutException: 60000 millis timeout while waiting for channel to be ready for read. ch : java.nio.channels.SocketChannel[connected local=/10.10.34.42:56491 remote=mesos-master-1/10.10.34.11:9000]; For more details see:  http://wiki.apache.org/hadoop/SocketTimeout\n",
      "Alerte envoyée par email pour le message : java.net.SocketTimeoutException: Call From mesos-slave-32/127.0.1.1 to mesos-master-1:9000 failed on socket timeout exception: java.net.SocketTimeoutException: 60000 millis timeout while waiting for channel to be ready for read. ch : java.nio.channels.SocketChannel[connected local=/10.10.34.42:56492 remote=mesos-master-1/10.10.34.11:9000]; For more details see:  http://wiki.apache.org/hadoop/SocketTimeout\n",
      "Alerte envoyée par email pour le message : java.net.SocketTimeoutException: Call From mesos-slave-32/127.0.1.1 to mesos-master-1:9000 failed on socket timeout exception: java.net.SocketTimeoutException: 60000 millis timeout while waiting for channel to be ready for read. ch : java.nio.channels.SocketChannel[connected local=/10.10.34.42:56493 remote=mesos-master-1/10.10.34.11:9000]; For more details see:  http://wiki.apache.org/hadoop/SocketTimeout\n",
      "Alerte envoyée par email pour le message : java.net.SocketTimeoutException: Call From mesos-slave-32/127.0.1.1 to mesos-master-1:9000 failed on socket timeout exception: java.net.SocketTimeoutException: 60000 millis timeout while waiting for channel to be ready for read. ch : java.nio.channels.SocketChannel[connected local=/10.10.34.42:56494 remote=mesos-master-1/10.10.34.11:9000]; For more details see:  http://wiki.apache.org/hadoop/SocketTimeout\n",
      "Alerte envoyée par email pour le message : java.net.SocketTimeoutException: Call From mesos-slave-32/127.0.1.1 to mesos-master-1:9000 failed on socket timeout exception: java.net.SocketTimeoutException: 60000 millis timeout while waiting for channel to be ready for read. ch : java.nio.channels.SocketChannel[connected local=/10.10.34.42:56495 remote=mesos-master-1/10.10.34.11:9000]; For more details see:  http://wiki.apache.org/hadoop/SocketTimeout\n",
      "Alerte envoyée par email pour le message : java.net.SocketTimeoutException: Call From mesos-slave-32/127.0.1.1 to mesos-master-1:9000 failed on socket timeout exception: java.net.SocketTimeoutException: 60000 millis timeout while waiting for channel to be ready for read. ch : java.nio.channels.SocketChannel[connected local=/10.10.34.42:56496 remote=mesos-master-1/10.10.34.11:9000]; For more details see:  http://wiki.apache.org/hadoop/SocketTimeout\n",
      "Alerte envoyée par email pour le message : java.net.SocketTimeoutException: Call From mesos-slave-32/127.0.1.1 to mesos-master-1:9000 failed on socket timeout exception: java.net.SocketTimeoutException: 60000 millis timeout while waiting for channel to be ready for read. ch : java.nio.channels.SocketChannel[connected local=/10.10.34.42:56497 remote=mesos-master-1/10.10.34.11:9000]; For more details see:  http://wiki.apache.org/hadoop/SocketTimeout\n",
      "Alerte envoyée par email pour le message : java.net.SocketTimeoutException: Call From mesos-slave-32/127.0.1.1 to mesos-master-1:9000 failed on socket timeout exception: java.net.SocketTimeoutException: 60000 millis timeout while waiting for channel to be ready for read. ch : java.nio.channels.SocketChannel[connected local=/10.10.34.42:56498 remote=mesos-master-1/10.10.34.11:9000]; For more details see:  http://wiki.apache.org/hadoop/SocketTimeout\n",
      "Alerte envoyée par email pour le message : java.net.SocketTimeoutException: Call From mesos-slave-32/127.0.1.1 to mesos-master-1:9000 failed on socket timeout exception: java.net.SocketTimeoutException: 60000 millis timeout while waiting for channel to be ready for read. ch : java.nio.channels.SocketChannel[connected local=/10.10.34.42:56499 remote=mesos-master-1/10.10.34.11:9000]; For more details see:  http://wiki.apache.org/hadoop/SocketTimeout\n",
      "Alerte envoyée par email pour le message : java.net.SocketTimeoutException: Call From mesos-slave-32/127.0.1.1 to mesos-master-1:9000 failed on socket timeout exception: java.net.SocketTimeoutException: 60000 millis timeout while waiting for channel to be ready for read. ch : java.nio.channels.SocketChannel[connected local=/10.10.34.42:56500 remote=mesos-master-1/10.10.34.11:9000]; For more details see:  http://wiki.apache.org/hadoop/SocketTimeout\n",
      "Alerte envoyée par email pour le message : java.net.SocketTimeoutException: Call From mesos-slave-32/127.0.1.1 to mesos-master-1:9000 failed on socket timeout exception: java.net.SocketTimeoutException: 60000 millis timeout while waiting for channel to be ready for read. ch : java.nio.channels.SocketChannel[connected local=/10.10.34.42:56501 remote=mesos-master-1/10.10.34.11:9000]; For more details see:  http://wiki.apache.org/hadoop/SocketTimeout\n",
      "Alerte envoyée par email pour le message : java.net.SocketTimeoutException: Call From mesos-slave-32/127.0.1.1 to mesos-master-1:9000 failed on socket timeout exception: java.net.SocketTimeoutException: 60000 millis timeout while waiting for channel to be ready for read. ch : java.nio.channels.SocketChannel[connected local=/10.10.34.42:56502 remote=mesos-master-1/10.10.34.11:9000]; For more details see:  http://wiki.apache.org/hadoop/SocketTimeout\n",
      "Alerte envoyée par email pour le message : java.net.SocketTimeoutException: Call From mesos-slave-32/127.0.1.1 to mesos-master-1:9000 failed on socket timeout exception: java.net.SocketTimeoutException: 60000 millis timeout while waiting for channel to be ready for read. ch : java.nio.channels.SocketChannel[connected local=/10.10.34.42:56503 remote=mesos-master-1/10.10.34.11:9000]; For more details see:  http://wiki.apache.org/hadoop/SocketTimeout\n",
      "Alerte envoyée par email pour le message : java.net.SocketTimeoutException: Call From mesos-slave-32/127.0.1.1 to mesos-master-1:9000 failed on socket timeout exception: java.net.SocketTimeoutException: 60000 millis timeout while waiting for channel to be ready for read. ch : java.nio.channels.SocketChannel[connected local=/10.10.34.42:56504 remote=mesos-master-1/10.10.34.11:9000]; For more details see:  http://wiki.apache.org/hadoop/SocketTimeout\n",
      "Alerte envoyée par email pour le message : java.net.SocketTimeoutException: Call From mesos-slave-32/127.0.1.1 to mesos-master-1:9000 failed on socket timeout exception: java.net.SocketTimeoutException: 60000 millis timeout while waiting for channel to be ready for read. ch : java.nio.channels.SocketChannel[connected local=/10.10.34.42:56505 remote=mesos-master-1/10.10.34.11:9000]; For more details see:  http://wiki.apache.org/hadoop/SocketTimeout\n",
      "Alerte envoyée par email pour le message : java.net.SocketTimeoutException: Call From mesos-slave-32/127.0.1.1 to mesos-master-1:9000 failed on socket timeout exception: java.net.SocketTimeoutException: 60000 millis timeout while waiting for channel to be ready for read. ch : java.nio.channels.SocketChannel[connected local=/10.10.34.42:56506 remote=mesos-master-1/10.10.34.11:9000]; For more details see:  http://wiki.apache.org/hadoop/SocketTimeout\n",
      "Alerte envoyée par email pour le message : java.net.SocketTimeoutException: Call From mesos-slave-32/127.0.1.1 to mesos-master-1:9000 failed on socket timeout exception: java.net.SocketTimeoutException: 60000 millis timeout while waiting for channel to be ready for read. ch : java.nio.channels.SocketChannel[connected local=/10.10.34.42:56507 remote=mesos-master-1/10.10.34.11:9000]; For more details see:  http://wiki.apache.org/hadoop/SocketTimeout\n",
      "Alerte envoyée par email pour le message : java.net.SocketTimeoutException: Call From mesos-slave-32/127.0.1.1 to mesos-master-1:9000 failed on socket timeout exception: java.net.SocketTimeoutException: 60000 millis timeout while waiting for channel to be ready for read. ch : java.nio.channels.SocketChannel[connected local=/10.10.34.42:56508 remote=mesos-master-1/10.10.34.11:9000]; For more details see:  http://wiki.apache.org/hadoop/SocketTimeout\n",
      "Alerte envoyée par email pour le message : java.net.SocketTimeoutException: Call From mesos-slave-32/127.0.1.1 to mesos-master-1:9000 failed on socket timeout exception: java.net.SocketTimeoutException: 60000 millis timeout while waiting for channel to be ready for read. ch : java.nio.channels.SocketChannel[connected local=/10.10.34.42:56509 remote=mesos-master-1/10.10.34.11:9000]; For more details see:  http://wiki.apache.org/hadoop/SocketTimeout\n",
      "Alerte envoyée par email pour le message : java.net.SocketTimeoutException: Call From mesos-slave-32/127.0.1.1 to mesos-master-1:9000 failed on socket timeout exception: java.net.SocketTimeoutException: 60000 millis timeout while waiting for channel to be ready for read. ch : java.nio.channels.SocketChannel[connected local=/10.10.34.42:56510 remote=mesos-master-1/10.10.34.11:9000]; For more details see:  http://wiki.apache.org/hadoop/SocketTimeout\n",
      "Alerte envoyée par email pour le message : java.net.SocketTimeoutException: Call From mesos-slave-32/127.0.1.1 to mesos-master-1:9000 failed on socket timeout exception: java.net.SocketTimeoutException: 60000 millis timeout while waiting for channel to be ready for read. ch : java.nio.channels.SocketChannel[connected local=/10.10.34.42:56511 remote=mesos-master-1/10.10.34.11:9000]; For more details see:  http://wiki.apache.org/hadoop/SocketTimeout\n",
      "Alerte envoyée par email pour le message : java.net.SocketTimeoutException: Call From mesos-slave-32/127.0.1.1 to mesos-master-1:9000 failed on socket timeout exception: java.net.SocketTimeoutException: 60000 millis timeout while waiting for channel to be ready for read. ch : java.nio.channels.SocketChannel[connected local=/10.10.34.42:56512 remote=mesos-master-1/10.10.34.11:9000]; For more details see:  http://wiki.apache.org/hadoop/SocketTimeout\n",
      "Alerte envoyée par email pour le message : java.net.SocketTimeoutException: Call From mesos-slave-32/127.0.1.1 to mesos-master-1:9000 failed on socket timeout exception: java.net.SocketTimeoutException: 60000 millis timeout while waiting for channel to be ready for read. ch : java.nio.channels.SocketChannel[connected local=/10.10.34.42:56513 remote=mesos-master-1/10.10.34.11:9000]; For more details see:  http://wiki.apache.org/hadoop/SocketTimeout\n"
     ]
    }
   ],
   "source": [
    "spark.streams.awaitAnyTermination()"
   ]
  },
  {
   "cell_type": "code",
   "execution_count": null,
   "id": "2cb64dcd",
   "metadata": {},
   "outputs": [],
   "source": []
  }
 ],
 "metadata": {
  "kernelspec": {
   "display_name": "Python 3 (ipykernel)",
   "language": "python",
   "name": "python3"
  },
  "language_info": {
   "codemirror_mode": {
    "name": "ipython",
    "version": 3
   },
   "file_extension": ".py",
   "mimetype": "text/x-python",
   "name": "python",
   "nbconvert_exporter": "python",
   "pygments_lexer": "ipython3",
   "version": "3.11.5"
  }
 },
 "nbformat": 4,
 "nbformat_minor": 5
}
