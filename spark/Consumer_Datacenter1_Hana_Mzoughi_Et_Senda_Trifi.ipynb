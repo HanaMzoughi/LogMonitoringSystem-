{
 "cells": [
  {
   "cell_type": "code",
   "execution_count": 1,
   "id": "2c384f21",
   "metadata": {},
   "outputs": [],
   "source": [
    "import findspark\n",
    "findspark.init()"
   ]
  },
  {
   "cell_type": "code",
   "execution_count": 2,
   "id": "408e2490",
   "metadata": {},
   "outputs": [],
   "source": [
    "from pyspark.sql import SparkSession\n",
    "from pyspark.sql.functions import col, regexp_extract\n",
    "import os"
   ]
  },
  {
   "cell_type": "code",
   "execution_count": 3,
   "id": "e17a30de",
   "metadata": {},
   "outputs": [],
   "source": [
    "# Path to the directory containing JAR files\n",
    "jars_dir = \"./\"\n",
    "\n",
    "# Collect all JAR files in the directory\n",
    "jars = \",\".join([os.path.join(jars_dir, f) for f in os.listdir(jars_dir) if f.endswith(\".jar\")])\n"
   ]
  },
  {
   "cell_type": "code",
   "execution_count": 4,
   "id": "35d30a6d",
   "metadata": {},
   "outputs": [],
   "source": [
    "spark = SparkSession.builder \\\n",
    "    .appName(\"KafkaLogProcessor\") \\\n",
    "    .config(\"spark.jars\", jars) \\\n",
    "    .getOrCreate()"
   ]
  },
  {
   "cell_type": "code",
   "execution_count": 5,
   "id": "71f52550",
   "metadata": {},
   "outputs": [],
   "source": [
    "kafka_brokers = \"localhost:9092\"  \n",
    "kafka_topic = \"data1\"  "
   ]
  },
  {
   "cell_type": "code",
   "execution_count": 6,
   "id": "5a7c35bf",
   "metadata": {},
   "outputs": [],
   "source": [
    "raw_logs_df = spark.read \\\n",
    "    .format(\"kafka\") \\\n",
    "    .option(\"kafka.bootstrap.servers\", kafka_brokers) \\\n",
    "    .option(\"subscribe\", kafka_topic) \\\n",
    "    .option(\"startingOffsets\", \"earliest\") \\\n",
    "    .option(\"endingOffsets\", \"latest\") \\\n",
    "    .load()"
   ]
  },
  {
   "cell_type": "code",
   "execution_count": 7,
   "id": "93cffec2",
   "metadata": {},
   "outputs": [],
   "source": [
    "logs_df = raw_logs_df.selectExpr(\"CAST(value AS STRING) AS text\")"
   ]
  },
  {
   "cell_type": "code",
   "execution_count": 8,
   "id": "5bfca399",
   "metadata": {},
   "outputs": [],
   "source": [
    "es_options = {\n",
    "  \"es.nodes\": \"localhost\",  \n",
    "  \"es.port\": \"9200\",        \n",
    "  \"es.index.auto.create\": \"true\",  \n",
    "  \"es.resource\": \"logs\"  \n",
    "}"
   ]
  },
  {
   "cell_type": "code",
   "execution_count": 9,
   "id": "dc9ab0a1",
   "metadata": {},
   "outputs": [],
   "source": [
    "logs_df.write \\\n",
    "    .format(\"org.elasticsearch.spark.sql\") \\\n",
    "    .options(**es_options) \\\n",
    "    .mode(\"append\") \\\n",
    "    .save()"
   ]
  },
  {
   "cell_type": "code",
   "execution_count": 10,
   "id": "75dc4657",
   "metadata": {},
   "outputs": [],
   "source": [
    "spark.stop() "
   ]
  },
  {
   "cell_type": "code",
   "execution_count": null,
   "id": "00b083e9",
   "metadata": {},
   "outputs": [],
   "source": []
  }
 ],
 "metadata": {
  "kernelspec": {
   "display_name": "Python 3 (ipykernel)",
   "language": "python",
   "name": "python3"
  },
  "language_info": {
   "codemirror_mode": {
    "name": "ipython",
    "version": 3
   },
   "file_extension": ".py",
   "mimetype": "text/x-python",
   "name": "python",
   "nbconvert_exporter": "python",
   "pygments_lexer": "ipython3",
   "version": "3.11.5"
  }
 },
 "nbformat": 4,
 "nbformat_minor": 5
}
